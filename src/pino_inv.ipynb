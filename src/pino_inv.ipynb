{
 "cells": [
  {
   "cell_type": "code",
   "execution_count": null,
   "metadata": {},
   "outputs": [],
   "source": [
    "import yaml\n",
    "from argparse import ArgumentParser\n",
    "import torch\n",
    "from train_utils.adam import Adam\n",
    "from train_utils.datasets import get_dataloaders\n",
    "from train_utils.train_2d import train_operator\n",
    "from train_utils.eval_2d import eval_ap\n",
    "from models import FNO3d"
   ]
  },
  {
   "cell_type": "code",
   "execution_count": null,
   "metadata": {},
   "outputs": [],
   "source": [
    "config_file = 'config/ap_inv.yaml'\n",
    "with open(config_file, 'r') as stream:\n",
    "    config = yaml.load(stream, yaml.FullLoader)"
   ]
  },
  {
   "cell_type": "code",
   "execution_count": null,
   "metadata": {},
   "outputs": [],
   "source": [
    "device = torch.device('cuda:0' if torch.cuda.is_available() else 'cpu')"
   ]
  },
  {
   "cell_type": "code",
   "execution_count": null,
   "metadata": {},
   "outputs": [],
   "source": [
    "device"
   ]
  },
  {
   "cell_type": "code",
   "execution_count": null,
   "metadata": {},
   "outputs": [],
   "source": [
    "train_loader, test_loader = get_dataloaders('data/AP_spiral_heter.mat')"
   ]
  },
  {
   "cell_type": "code",
   "execution_count": null,
   "metadata": {},
   "outputs": [],
   "source": [
    "model = FNO3d(modes1=config['model']['modes1'],\n",
    "                  modes2=config['model']['modes2'],\n",
    "                  modes3=config['model']['modes3'],\n",
    "                  fc_dim=config['model']['fc_dim'],\n",
    "                  layers=config['model']['layers'],\n",
    "                  act=config['model']['act'], \n",
    "                  pad_ratio=config['model']['pad_ratio']).to(device)"
   ]
  },
  {
   "cell_type": "code",
   "execution_count": null,
   "metadata": {},
   "outputs": [],
   "source": [
    "def train(config, train_loader, model):\n",
    "    # Load from checkpoint\n",
    "    if 'ckpt' in config['train']:\n",
    "        ckpt_path = config['train']['ckpt']\n",
    "        ckpt = torch.load(ckpt_path)\n",
    "        model.load_state_dict(ckpt['model'])\n",
    "        print('Weights loaded from %s' % ckpt_path)\n",
    "        \n",
    "    optimizer = Adam(model.parameters(), betas=(0.9, 0.999),\n",
    "                     lr=config['train']['base_lr'])\n",
    "    scheduler = torch.optim.lr_scheduler.MultiStepLR(optimizer,\n",
    "                                                     milestones=config['train']['milestones'],\n",
    "                                                     gamma=config['train']['scheduler_gamma'])\n",
    "    train_operator(model,\n",
    "                      train_loader,\n",
    "                      optimizer, scheduler,\n",
    "                      config, rank=0, log=False,\n",
    "                      project=config['log']['project'],\n",
    "                      group=config['log']['group'])"
   ]
  },
  {
   "cell_type": "code",
   "execution_count": null,
   "metadata": {},
   "outputs": [],
   "source": [
    "train(config, train_loader, model)"
   ]
  },
  {
   "cell_type": "code",
   "execution_count": null,
   "metadata": {},
   "outputs": [],
   "source": [
    "def test(args, config, test_loader, model):\n",
    "    if 'ckpt' in config['test']:\n",
    "        ckpt_path = config['test']['ckpt']\n",
    "        ckpt = torch.load(ckpt_path)\n",
    "        model.load_state_dict(ckpt['model'])\n",
    "        print('Weights loaded from %s' % ckpt_path)\n",
    "    eval_ap(model, test_loader, device)"
   ]
  },
  {
   "cell_type": "code",
   "execution_count": null,
   "metadata": {},
   "outputs": [],
   "source": [
    "test(config, train_loader, model)"
   ]
  }
 ],
 "metadata": {
  "kernelspec": {
   "display_name": "cse598",
   "language": "python",
   "name": "python3"
  },
  "language_info": {
   "codemirror_mode": {
    "name": "ipython",
    "version": 3
   },
   "file_extension": ".py",
   "mimetype": "text/x-python",
   "name": "python",
   "nbconvert_exporter": "python",
   "pygments_lexer": "ipython3",
   "version": "3.11.8"
  }
 },
 "nbformat": 4,
 "nbformat_minor": 2
}
